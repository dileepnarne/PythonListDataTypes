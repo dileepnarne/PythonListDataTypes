{
 "cells": [
  {
   "cell_type": "code",
   "execution_count": 1,
   "metadata": {},
   "outputs": [
    {
     "name": "stdout",
     "output_type": "stream",
     "text": [
      "1\n",
      "3\n",
      "5\n"
     ]
    }
   ],
   "source": [
    "# introduction to while loop\n",
    "current_number= 1\n",
    "while current_number <=5:\n",
    "    print(current_number)\n",
    "    current_number = current_number + 2\n",
    "    "
   ]
  },
  {
   "cell_type": "code",
   "execution_count": 2,
   "metadata": {},
   "outputs": [
    {
     "name": "stdout",
     "output_type": "stream",
     "text": [
      "1\n",
      "3\n",
      "5\n",
      "7\n",
      "9\n",
      "11\n",
      "13\n",
      "15\n",
      "17\n",
      "19\n"
     ]
    }
   ],
   "source": [
    "# introduction to while loop Test\n",
    "current_number=1\n",
    "while current_number <=20:\n",
    "    print(current_number)\n",
    "    current_number = current_number + 2"
   ]
  },
  {
   "cell_type": "code",
   "execution_count": 3,
   "metadata": {},
   "outputs": [
    {
     "name": "stdout",
     "output_type": "stream",
     "text": [
      "hello\n"
     ]
    }
   ],
   "source": [
    "#introduction to functions:\n",
    "\n",
    "#def is a key word to declare a function \n",
    "\n",
    "def greet_users():\n",
    "    \"\"\"display a simple greeting\"\"\"\n",
    "    print(\"hello\")\n",
    "\n",
    "greet_users()"
   ]
  },
  {
   "cell_type": "code",
   "execution_count": 4,
   "metadata": {},
   "outputs": [
    {
     "name": "stdout",
     "output_type": "stream",
     "text": [
      "hello, Ishwarya!\n"
     ]
    }
   ],
   "source": [
    "def greet_user(username): # user name is called  as defing  parmeters\n",
    "    \"\"\"display a simple greeting to user loged in\"\"\"\n",
    "    print(f\"hello, {username.title()}!\")\n",
    "\n",
    "greet_user('ishwarya')"
   ]
  },
  {
   "cell_type": "code",
   "execution_count": null,
   "metadata": {},
   "outputs": [],
   "source": [
    "More info about passing arguments\n",
    "1. positional arguments\n",
    "2. keyward arguments"
   ]
  },
  {
   "cell_type": "code",
   "execution_count": 7,
   "metadata": {},
   "outputs": [
    {
     "name": "stdout",
     "output_type": "stream",
     "text": [
      "\n",
      "I hava a husky\n",
      "my husky's name is Bruno\n"
     ]
    }
   ],
   "source": [
    "def describe_pet(animal_type,pet_name):\n",
    "    \"display Information about a Pet\"\n",
    "\n",
    "    print(f\"\\nI hava a {animal_type}\")\n",
    "    print(f\"my {animal_type}'s name is {pet_name.title()}\")\n",
    "\n",
    "\n",
    "describe_pet('husky','bruno')\n",
    "#describe_pet('husky','bruno') # postional arguments"
   ]
  },
  {
   "cell_type": "code",
   "execution_count": 8,
   "metadata": {},
   "outputs": [
    {
     "name": "stdout",
     "output_type": "stream",
     "text": [
      "\n",
      "I hava a husky\n",
      "my husky's name is Rambo\n"
     ]
    }
   ],
   "source": [
    "#based on key word value will be assign \n",
    "\n",
    "def describe_pet(animal_type,pet_name):\n",
    "#\"\"display Information about a Pet\"\"\n",
    "\n",
    "    print(f\"\\nI hava a {animal_type}\")\n",
    "    print(f\"my {animal_type}'s name is {pet_name.title()}\")\n",
    "    \n",
    "describe_pet( pet_name = 'rambo' , animal_type ='husky') \n",
    "\n",
    "#describe_pet( pet_name = 'rambo' , animal_type ='husky')  # keywords arguments"
   ]
  }
 ],
 "metadata": {
  "kernelspec": {
   "display_name": "Python 3",
   "language": "python",
   "name": "python3"
  },
  "language_info": {
   "codemirror_mode": {
    "name": "ipython",
    "version": 3
   },
   "file_extension": ".py",
   "mimetype": "text/x-python",
   "name": "python",
   "nbconvert_exporter": "python",
   "pygments_lexer": "ipython3",
   "version": "3.6.7"
  }
 },
 "nbformat": 4,
 "nbformat_minor": 2
}
