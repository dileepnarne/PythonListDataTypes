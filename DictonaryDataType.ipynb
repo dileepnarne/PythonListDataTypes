{
 "cells": [
  {
   "cell_type": "code",
   "execution_count": 1,
   "metadata": {},
   "outputs": [
    {
     "name": "stdout",
     "output_type": "stream",
     "text": [
      "{'color': 'green', 'points': 5}\n"
     ]
    }
   ],
   "source": [
    "#Dictionary data type in python is a coolection of key value pairs\n",
    "#each key is connected with a value\n",
    "#Dictionary data type is a mutable datatype  -- it can be able to add , modify, delete the values\n",
    "#by using flower brackets\n",
    "\n",
    "\n",
    "align_0 = { 'color' : 'green','points': 5 }\n",
    "\n",
    "print(align_0) "
   ]
  },
  {
   "cell_type": "code",
   "execution_count": 2,
   "metadata": {},
   "outputs": [
    {
     "name": "stdout",
     "output_type": "stream",
     "text": [
      "{'color': 'yellow', 'points': 10, 'score': 50, 'net total': 100}\n",
      "the align is in yellow\n",
      "the align is now in blue\n"
     ]
    }
   ],
   "source": [
    "#how to intialize a empty dictionary\n",
    "align_1={}\n",
    "\n",
    "align_1['color'] = 'yellow'\n",
    "\n",
    "align_1['points'] = 10\n",
    "\n",
    "align_1['score'] = 50\n",
    "\n",
    "align_1['net total'] =100\n",
    "\n",
    "print(align_1)\n",
    "\n",
    "#game alien color is yellow if align kill points is 10 and score is 50\n",
    "\n",
    "print(f\"the align is in {align_1['color']}\")\n",
    "\n",
    "align_1['color'] = 'blue'\n",
    "\n",
    "print(f\"the align is now in {align_1['color']}\")"
   ]
  }
 ],
 "metadata": {
  "kernelspec": {
   "display_name": "Python 3",
   "language": "python",
   "name": "python3"
  },
  "language_info": {
   "codemirror_mode": {
    "name": "ipython",
    "version": 3
   },
   "file_extension": ".py",
   "mimetype": "text/x-python",
   "name": "python",
   "nbconvert_exporter": "python",
   "pygments_lexer": "ipython3",
   "version": "3.6.7"
  }
 },
 "nbformat": 4,
 "nbformat_minor": 2
}
