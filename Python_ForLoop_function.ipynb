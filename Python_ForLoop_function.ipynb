{
 "cells": [
  {
   "cell_type": "code",
   "execution_count": 1,
   "metadata": {},
   "outputs": [
    {
     "name": "stdout",
     "output_type": "stream",
     "text": [
      "['harry', 'dumbeldore', 'hormanie', 'anand']\n"
     ]
    }
   ],
   "source": [
    "#Dynamic List\n",
    "\n",
    "magicians = [ 'harry', 'dumbeldore','hormanie','anand']\n",
    "\n",
    "print(magicians)"
   ]
  },
  {
   "cell_type": "code",
   "execution_count": 5,
   "metadata": {},
   "outputs": [
    {
     "name": "stdout",
     "output_type": "stream",
     "text": [
      "['harry', 'dumbeldore', 'hormanie', 'anand']\n",
      "\n",
      "harry\n",
      "\n",
      "dumbeldore\n",
      "\n",
      "hormanie\n",
      "\n",
      "anand\n",
      "\n"
     ]
    }
   ],
   "source": [
    "# For loop\n",
    "\n",
    "magicians = [ 'harry', 'dumbeldore','hormanie','anand']\n",
    "\n",
    "print(magicians)\n",
    "\n",
    "print(\"\")\n",
    "\n",
    "for magician in magicians:   # creation  of temp variable\n",
    "    print(magician)\n",
    "    print('')\n"
   ]
  },
  {
   "cell_type": "code",
   "execution_count": 7,
   "metadata": {},
   "outputs": [
    {
     "name": "stdout",
     "output_type": "stream",
     "text": [
      "Harry, that was a great trick\n",
      "Dumbeldore, that was a great trick\n",
      "Hormanie, that was a great trick\n",
      "Anand, that was a great trick\n",
      " I cant wait to see your next trik, Anand\n"
     ]
    }
   ],
   "source": [
    "#Printing elements from a list using for loop\n",
    "\n",
    "magicians = [ 'harry', 'dumbeldore','hormanie','anand']\n",
    "\n",
    "for n in magicians:   \n",
    "\tprint ( f\"{n.title()}, that was a great trick\") #indentation\n",
    "\n",
    "print (f\" I cant wait to see your next trik, {n.title()}\") #outside the loop\n"
   ]
  },
  {
   "cell_type": "code",
   "execution_count": 8,
   "metadata": {},
   "outputs": [
    {
     "name": "stdout",
     "output_type": "stream",
     "text": [
      "Harry, that was a great trick \n",
      "\n",
      "I cant wait to see your next trik, Harry\n",
      "Dumbeldore, that was a great trick \n",
      "\n",
      "I cant wait to see your next trik, Dumbeldore\n",
      "Hormanie, that was a great trick \n",
      "\n",
      "I cant wait to see your next trik, Hormanie\n",
      "Anand, that was a great trick \n",
      "\n",
      "I cant wait to see your next trik, Anand\n"
     ]
    }
   ],
   "source": [
    "#Printing elements from a list using for loop\n",
    "\n",
    "magicians = [ 'harry', 'dumbeldore','hormanie','anand']\n",
    "\n",
    "for n in magicians:   \n",
    "    print (f\"{n.title()}, that was a great trick\",\"\\n\") #indentation\n",
    "    print (f\"I cant wait to see your next trik, {n.title()}\") #indentation\n",
    "    \n",
    "    "
   ]
  },
  {
   "cell_type": "code",
   "execution_count": 9,
   "metadata": {},
   "outputs": [
    {
     "name": "stdout",
     "output_type": "stream",
     "text": [
      "1\n",
      "2\n",
      "3\n",
      "4\n",
      "5\n",
      "6\n",
      "7\n",
      "8\n",
      "9\n"
     ]
    }
   ],
   "source": [
    "#Range function \n",
    "#Printing Values Between the Numbers \n",
    "\n",
    "for x in range(1,10):\n",
    "\tprint(x)"
   ]
  },
  {
   "cell_type": "code",
   "execution_count": null,
   "metadata": {},
   "outputs": [],
   "source": []
  },
  {
   "cell_type": "code",
   "execution_count": 10,
   "metadata": {},
   "outputs": [
    {
     "name": "stdout",
     "output_type": "stream",
     "text": [
      "[1, 2, 3, 4, 5]\n"
     ]
    }
   ],
   "source": [
    "# Creates a list  using range function\n",
    "\n",
    "numbers  =list(range(1,6))\n",
    "print (numbers)"
   ]
  },
  {
   "cell_type": "code",
   "execution_count": 11,
   "metadata": {},
   "outputs": [
    {
     "name": "stdout",
     "output_type": "stream",
     "text": [
      "[1, 3, 5, 7, 9, 11, 13, 15, 17, 19]\n"
     ]
    }
   ],
   "source": [
    "# Pring Odd numbers using list & Range functions\n",
    "\n",
    "odd_numbers= list(range(1,20,2))\n",
    "\n",
    "print (odd_numbers)\n"
   ]
  },
  {
   "cell_type": "code",
   "execution_count": 12,
   "metadata": {},
   "outputs": [
    {
     "name": "stdout",
     "output_type": "stream",
     "text": [
      "[2, 4, 6, 8, 10, 12, 14, 16, 18]\n"
     ]
    }
   ],
   "source": [
    "# Pring Even numbers using list & Range functions\n",
    "\n",
    "even_numbers= list(range(2,20,2))\n",
    "\n",
    "print (even_numbers)\n"
   ]
  },
  {
   "cell_type": "code",
   "execution_count": 14,
   "metadata": {},
   "outputs": [
    {
     "data": {
      "text/plain": [
       "1"
      ]
     },
     "execution_count": 14,
     "metadata": {},
     "output_type": "execute_result"
    }
   ],
   "source": [
    "# Find minimum value from a list\n",
    "\n",
    "digits = [1,2,3,5,7,8,9]\n",
    "\n",
    "min(digits)\n",
    "\n",
    "#print(min)"
   ]
  },
  {
   "cell_type": "code",
   "execution_count": 17,
   "metadata": {},
   "outputs": [
    {
     "data": {
      "text/plain": [
       "200000"
      ]
     },
     "execution_count": 17,
     "metadata": {},
     "output_type": "execute_result"
    }
   ],
   "source": [
    "# Find minimum value from a list\n",
    "\n",
    "digits = [1,2,3,5,7,8,9,100,200,3000,200000]\n",
    "\n",
    "max(digits)\n",
    " \n",
    "\n",
    "    "
   ]
  },
  {
   "cell_type": "code",
   "execution_count": 18,
   "metadata": {},
   "outputs": [
    {
     "data": {
      "text/plain": [
       "203335"
      ]
     },
     "execution_count": 18,
     "metadata": {},
     "output_type": "execute_result"
    }
   ],
   "source": [
    "# Find sum of the digits from a list\n",
    "\n",
    "digits = [1,2,3,5,7,8,9,100,200,3000,200000]\n",
    "\n",
    "sum(digits)"
   ]
  },
  {
   "cell_type": "code",
   "execution_count": 20,
   "metadata": {},
   "outputs": [
    {
     "name": "stdout",
     "output_type": "stream",
     "text": [
      "['dohni', 'dravid', 'kumble']\n"
     ]
    }
   ],
   "source": [
    "#slicing of alist...\n",
    "\n",
    "players = ['raj','sachin','dohni','dravid','kumble']\n",
    "\n",
    "#print the values only from Dhone to Kumble\n",
    "\n",
    "print(players[2:5])"
   ]
  },
  {
   "cell_type": "code",
   "execution_count": 22,
   "metadata": {},
   "outputs": [
    {
     "name": "stdout",
     "output_type": "stream",
     "text": [
      "['dohni', 'dravid', 'kumble', 'Kapil', 'vinod', 'Jadev']\n"
     ]
    }
   ],
   "source": [
    "players = ['raj','sachin','dohni','dravid','kumble','Kapil','vinod','Jadev']\n",
    "\n",
    "#print the values only from Dhone to end\n",
    "\n",
    "print(players[2:])"
   ]
  }
 ],
 "metadata": {
  "kernelspec": {
   "display_name": "Python 3",
   "language": "python",
   "name": "python3"
  },
  "language_info": {
   "codemirror_mode": {
    "name": "ipython",
    "version": 3
   },
   "file_extension": ".py",
   "mimetype": "text/x-python",
   "name": "python",
   "nbconvert_exporter": "python",
   "pygments_lexer": "ipython3",
   "version": "3.6.7"
  }
 },
 "nbformat": 4,
 "nbformat_minor": 2
}
