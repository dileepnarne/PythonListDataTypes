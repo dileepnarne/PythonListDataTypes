{
 "cells": [
  {
   "cell_type": "code",
   "execution_count": 4,
   "metadata": {},
   "outputs": [
    {
     "name": "stdout",
     "output_type": "stream",
     "text": [
      "[]\n",
      "['maruthi', 'SWIFT', 'I10', 'AUDI', 'BENZ']\n"
     ]
    }
   ],
   "source": [
    "car=[]\n",
    "print(car)\n",
    "\n",
    "car. append('maruthi')\n",
    "\n",
    "car. append('SWIFT')\n",
    "\n",
    "car. append('I10')\n",
    "\n",
    "car. append('AUDI')\n",
    "\n",
    "car. append('BENZ')\n",
    "print(car)"
   ]
  },
  {
   "cell_type": "code",
   "execution_count": 5,
   "metadata": {},
   "outputs": [
    {
     "name": "stdout",
     "output_type": "stream",
     "text": [
      "['honda', 'yamaha', 'suzuki']\n",
      "['honda', 'yamaha']\n"
     ]
    }
   ],
   "source": [
    "motorcycles = [ 'honda', 'yamaha' , 'suzuki' ]\n",
    "\n",
    "print(motorcycles)\n",
    "\n",
    "del motorcycles[2]\n",
    "\n",
    "print(motorcycles)"
   ]
  },
  {
   "cell_type": "code",
   "execution_count": 6,
   "metadata": {},
   "outputs": [
    {
     "name": "stdout",
     "output_type": "stream",
     "text": [
      "['honda', 'yamaha', 'suzuki']\n",
      "['honda', 'suzuki']\n"
     ]
    }
   ],
   "source": [
    "motorcycles = [ 'honda', 'yamaha' , 'suzuki' ]\n",
    "\n",
    "\n",
    "print(motorcycles)\n",
    "\n",
    "\n",
    "motorcycles.pop(1)\n",
    "\n",
    "\n",
    "print(motorcycles)\n",
    "\n",
    "#it will not delete elemnts permenently\n",
    "\n",
    "\n",
    "\n"
   ]
  },
  {
   "cell_type": "code",
   "execution_count": 8,
   "metadata": {},
   "outputs": [
    {
     "name": "stdout",
     "output_type": "stream",
     "text": [
      "['honda', 'yamaha', 'suzuki', 'r15', 'pulsar', 'hayabusa']\n",
      "['hayabusa', 'honda', 'pulsar', 'r15', 'suzuki', 'yamaha']\n"
     ]
    }
   ],
   "source": [
    "# Sorting the elements in the list\n",
    "\n",
    "motorcycles = [ 'honda', 'yamaha' , 'suzuki' ,'r15','pulsar','hayabusa']\n",
    "\n",
    "print(motorcycles) # for print\n",
    "\n",
    "motorcycles.sort() # sort function usage\n",
    "\n",
    "print(motorcycles) # for print"
   ]
  },
  {
   "cell_type": "code",
   "execution_count": 9,
   "metadata": {},
   "outputs": [
    {
     "name": "stdout",
     "output_type": "stream",
     "text": [
      "['honda', 'yamaha', 'suzuki', 'r15', 'pulsar', 'hayabusa']\n",
      "['hayabusa', 'pulsar', 'r15', 'suzuki', 'yamaha', 'honda']\n"
     ]
    }
   ],
   "source": [
    "motorcycles = [ 'honda', 'yamaha' , 'suzuki' ,'r15','pulsar','hayabusa']\n",
    "\n",
    "print(motorcycles) # for print\n",
    "\n",
    "motorcycles.reverse() # reverse function use to print reverse Order\n",
    "\n",
    "print(motorcycles) # for print\n"
   ]
  },
  {
   "cell_type": "code",
   "execution_count": 17,
   "metadata": {},
   "outputs": [
    {
     "name": "stdout",
     "output_type": "stream",
     "text": [
      "['honda', 'yamaha', 'suzuki', 'r15', 'pulsar', 'hayabusa']\n"
     ]
    },
    {
     "data": {
      "text/plain": [
       "6"
      ]
     },
     "execution_count": 17,
     "metadata": {},
     "output_type": "execute_result"
    }
   ],
   "source": [
    "motorcycles = [ 'honda', 'yamaha' , 'suzuki' ,'r15','pulsar','hayabusa']\n",
    "\n",
    "print(motorcycles) # for print\n",
    "\n",
    "len(motorcycles)  # len function use to count the elements in a list\n",
    "\n",
    "#print(len(motorcycles)) # for print\n",
    "\n"
   ]
  }
 ],
 "metadata": {
  "kernelspec": {
   "display_name": "Python 3",
   "language": "python",
   "name": "python3"
  },
  "language_info": {
   "codemirror_mode": {
    "name": "ipython",
    "version": 3
   },
   "file_extension": ".py",
   "mimetype": "text/x-python",
   "name": "python",
   "nbconvert_exporter": "python",
   "pygments_lexer": "ipython3",
   "version": "3.6.7"
  }
 },
 "nbformat": 4,
 "nbformat_minor": 2
}
